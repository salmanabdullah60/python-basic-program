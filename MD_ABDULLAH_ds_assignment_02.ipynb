{
 "cells": [
  {
   "cell_type": "markdown",
   "id": "cc5f8eb1",
   "metadata": {},
   "source": [
    "# 1 Take values of the length & breadth of a rectangle from user input and check if it is square or not."
   ]
  },
  {
   "cell_type": "code",
   "execution_count": 1,
   "id": "83a751ac",
   "metadata": {},
   "outputs": [
    {
     "name": "stdout",
     "output_type": "stream",
     "text": [
      "Enter the length of the rectangle: 44\n",
      "Enter the breadth of the rectangle: 44\n",
      "The rectangle is a square.\n"
     ]
    }
   ],
   "source": [
    "length = float(input(\"Enter the length of the rectangle: \"))\n",
    "breadth = float(input(\"Enter the breadth of the rectangle: \"))\n",
    "\n",
    "if length == breadth:\n",
    "    print(\"The rectangle is a square.\")\n",
    "else:\n",
    "    print(\"The rectangle is not a square.\")\n"
   ]
  },
  {
   "cell_type": "markdown",
   "id": "2defc0ee",
   "metadata": {},
   "source": [
    "# 2 Take three integer values from the user and print the greatest among them.\n"
   ]
  },
  {
   "cell_type": "code",
   "execution_count": 2,
   "id": "1475defa",
   "metadata": {},
   "outputs": [
    {
     "name": "stdout",
     "output_type": "stream",
     "text": [
      " Enter your 1st Number: 44\n",
      " Enter your 2nd Number: 42\n",
      " Enter your 3rd Number: 43\n",
      "The greatest value:  44\n"
     ]
    }
   ],
   "source": [
    "# Prompt the user to enter three integers\n",
    "num1 = int(input(\" Enter your 1st Number: \"))\n",
    "num2 = int(input(\" Enter your 2nd Number: \"))\n",
    "num3 = int(input(\" Enter your 3rd Number: \"))\n",
    "\n",
    "if (num1>=num2) and (num1>=num3):\n",
    "    largest =num1\n",
    "    \n",
    "elif (num2>=num1) and (num2>=num3):\n",
    "    largest = num2\n",
    "    \n",
    "else:\n",
    "    largest = num3\n",
    "         \n",
    "# Print the greatest integer\n",
    "print(\"The greatest value: \", largest)"
   ]
  },
  {
   "cell_type": "markdown",
   "id": "b199cb8e",
   "metadata": {},
   "source": [
    "# 3  student will not be allowed to sit in an exam if his/her attendance is less than 75%."
   ]
  },
  {
   "cell_type": "code",
   "execution_count": 3,
   "id": "dde4ed3f",
   "metadata": {},
   "outputs": [
    {
     "name": "stdout",
     "output_type": "stream",
     "text": [
      "Enter the total number of class: 100\n",
      "Enter the number of class attended: 34\n",
      "student will not be allowed to sit in an exam\n"
     ]
    }
   ],
   "source": [
    "#the user to enter the total number of classes held and the number of classes attended\n",
    "total_class = int(input(\"Enter the total number of class: \"))\n",
    "attended_class = int(input(\"Enter the number of class attended: \"))\n",
    "\n",
    "# Calculate the attendance percentage\n",
    "attended_percent = (attended_class/total_class)*100\n",
    "\n",
    "# Check if the attendance percentage is greater than or equal to 75%\n",
    "if attended_percent >= 75:\n",
    "    print(\"student will be allowed to sit in an exam\")\n",
    "else:\n",
    "    print(\"student will not be allowed to sit in an exam\")\n",
    "    \n",
    "    \n",
    "    "
   ]
  },
  {
   "cell_type": "markdown",
   "id": "6531c647",
   "metadata": {},
   "source": [
    "# 4. A school has the following rules for the grading system"
   ]
  },
  {
   "cell_type": "code",
   "execution_count": 4,
   "id": "06d4f793",
   "metadata": {},
   "outputs": [
    {
     "name": "stdout",
     "output_type": "stream",
     "text": [
      "Enter your marks: 65\n",
      "Your grade is: B\n"
     ]
    }
   ],
   "source": [
    "# the user to enter the marks\n",
    "marks = int(input(\"Enter your marks: \"))\n",
    "\n",
    "# condition apply here\n",
    "\n",
    "if marks < 25:\n",
    "    grade = \"F\"\n",
    "elif marks < 45:\n",
    "    grade = \"E\"\n",
    "elif marks < 50:\n",
    "    grade = \"D\"\n",
    "elif marks < 60:\n",
    "    grade = \"C\"\n",
    "elif marks < 80:\n",
    "    grade = \"B\"\n",
    "elif marks < 90:\n",
    "    grade = \"A\"\n",
    "else:\n",
    "    grade = \"A+\"\n",
    "\n",
    "# print the grade you've got\n",
    "print(\"Your grade is:\", grade)\n"
   ]
  },
  {
   "cell_type": "markdown",
   "id": "f1869cac",
   "metadata": {},
   "source": [
    "# 5 Print the following pattern using for and while loop."
   ]
  },
  {
   "cell_type": "code",
   "execution_count": 5,
   "id": "efede7b7",
   "metadata": {},
   "outputs": [
    {
     "name": "stdout",
     "output_type": "stream",
     "text": [
      "1 2 3 4 5 6 7 \n",
      "1 2 3 4 5 6 \n",
      "1 2 3 4 5 \n",
      "1 2 3 4 \n",
      "1 2 3 \n",
      "1 2 \n",
      "1 \n"
     ]
    }
   ],
   "source": [
    "#using for loop\n",
    "\n",
    "for i in range(7, 0 ,-1):  # loop from 7 to 1 in steps of -1\n",
    "    for j in range(1, i+1):  # loop from 1 to i\n",
    "        print(j, end=' ')  # print j and space\n",
    "    print()  # print newline\n"
   ]
  },
  {
   "cell_type": "code",
   "execution_count": 6,
   "id": "7b058df6",
   "metadata": {},
   "outputs": [
    {
     "name": "stdout",
     "output_type": "stream",
     "text": [
      "1 2 3 4 5 6 7 \n",
      "1 2 3 4 5 6 \n",
      "1 2 3 4 5 \n",
      "1 2 3 4 \n",
      "1 2 3 \n",
      "1 2 \n",
      "1 \n"
     ]
    }
   ],
   "source": [
    "#using while loop\n",
    "\n",
    "i = 7  # set initial value of i\n",
    "while i >= 1:\n",
    "    j = 1  # set initial value of j\n",
    "    while j <= i:\n",
    "        print(j, end=' ')\n",
    "        j += 1  # increment j by 1\n",
    "    print()\n",
    "    i -= 1  # decrement i by 1\n"
   ]
  },
  {
   "cell_type": "markdown",
   "id": "60a63618",
   "metadata": {},
   "source": [
    "# 6 Display numbers from -100 to -10 using for loop."
   ]
  },
  {
   "cell_type": "code",
   "execution_count": 7,
   "id": "b5e77770",
   "metadata": {},
   "outputs": [
    {
     "name": "stdout",
     "output_type": "stream",
     "text": [
      "-100\n",
      "-99\n",
      "-98\n",
      "-97\n",
      "-96\n",
      "-95\n",
      "-94\n",
      "-93\n",
      "-92\n",
      "-91\n",
      "-90\n",
      "-89\n",
      "-88\n",
      "-87\n",
      "-86\n",
      "-85\n",
      "-84\n",
      "-83\n",
      "-82\n",
      "-81\n",
      "-80\n",
      "-79\n",
      "-78\n",
      "-77\n",
      "-76\n",
      "-75\n",
      "-74\n",
      "-73\n",
      "-72\n",
      "-71\n",
      "-70\n",
      "-69\n",
      "-68\n",
      "-67\n",
      "-66\n",
      "-65\n",
      "-64\n",
      "-63\n",
      "-62\n",
      "-61\n",
      "-60\n",
      "-59\n",
      "-58\n",
      "-57\n",
      "-56\n",
      "-55\n",
      "-54\n",
      "-53\n",
      "-52\n",
      "-51\n",
      "-50\n",
      "-49\n",
      "-48\n",
      "-47\n",
      "-46\n",
      "-45\n",
      "-44\n",
      "-43\n",
      "-42\n",
      "-41\n",
      "-40\n",
      "-39\n",
      "-38\n",
      "-37\n",
      "-36\n",
      "-35\n",
      "-34\n",
      "-33\n",
      "-32\n",
      "-31\n",
      "-30\n",
      "-29\n",
      "-28\n",
      "-27\n",
      "-26\n",
      "-25\n",
      "-24\n",
      "-23\n",
      "-22\n",
      "-21\n",
      "-20\n",
      "-19\n",
      "-18\n",
      "-17\n",
      "-16\n",
      "-15\n",
      "-14\n",
      "-13\n",
      "-12\n",
      "-11\n",
      "-10\n"
     ]
    }
   ],
   "source": [
    "for i in range(-100, -9):\n",
    "    print(i)"
   ]
  },
  {
   "cell_type": "markdown",
   "id": "b3975c1e",
   "metadata": {},
   "source": [
    "# 7 Write a program to sum all prime numbers within a range of 10 to 1000."
   ]
  },
  {
   "cell_type": "code",
   "execution_count": 8,
   "id": "01e0e5df",
   "metadata": {},
   "outputs": [
    {
     "name": "stdout",
     "output_type": "stream",
     "text": [
      "Sum of all prime numbers between 10 and 1000 is: 76110\n"
     ]
    }
   ],
   "source": [
    "# Function to check if a number is prime or not\n",
    "def is_prime(num):\n",
    "    if num < 2:\n",
    "        return False\n",
    "    for i in range(2, int(num ** 0.5) + 1):\n",
    "        if num % i == 0:\n",
    "            return False\n",
    "    return True\n",
    "\n",
    "# Main code\n",
    "start = 10\n",
    "end = 1000\n",
    "sum_primes = 0\n",
    "\n",
    "for num in range(start, end+1):\n",
    "    if is_prime(num):\n",
    "        sum_primes += num\n",
    "\n",
    "print(\"Sum of all prime numbers between\", start, \"and\", end, \"is:\", sum_primes)\n"
   ]
  },
  {
   "cell_type": "markdown",
   "id": "1af97c45",
   "metadata": {},
   "source": [
    "# 8 ind the factorial of an n! (Hint, n=7: 7*6*5*4*3*2*1) "
   ]
  },
  {
   "cell_type": "code",
   "execution_count": 9,
   "id": "8f836269",
   "metadata": {},
   "outputs": [
    {
     "name": "stdout",
     "output_type": "stream",
     "text": [
      "5040\n"
     ]
    }
   ],
   "source": [
    "n = 7\n",
    "factorial = 1\n",
    "for i in range(1, n+1):\n",
    "    factorial *= i\n",
    "print(factorial)\n"
   ]
  },
  {
   "cell_type": "markdown",
   "id": "28b49fd5",
   "metadata": {},
   "source": [
    "# 9 Reverse a given integer number 27956240710."
   ]
  },
  {
   "cell_type": "code",
   "execution_count": 10,
   "id": "29554817",
   "metadata": {},
   "outputs": [
    {
     "name": "stdout",
     "output_type": "stream",
     "text": [
      "2795624071\n"
     ]
    }
   ],
   "source": [
    "number = 27956240710\n",
    "\n",
    "#Convert the integer to a string\n",
    "number_str = str(number)\n",
    "\n",
    "# Reverse the string\n",
    "reversed_str = number_str[:-1]\n",
    "\n",
    "#Convert the reversed string back to an integer\n",
    "reversed_number = int(reversed_str)\n",
    "\n",
    "print(reversed_number)\n"
   ]
  },
  {
   "cell_type": "markdown",
   "id": "45e65ccb",
   "metadata": {},
   "source": [
    "# 11 Display the Fibonacci series of 15 elements using the for and while loop."
   ]
  },
  {
   "cell_type": "code",
   "execution_count": 11,
   "id": "07ed10fe",
   "metadata": {},
   "outputs": [
    {
     "name": "stdout",
     "output_type": "stream",
     "text": [
      "[0, 1, 1, 2, 3, 5, 8, 13, 21, 34, 55, 89, 144, 233, 377]\n"
     ]
    }
   ],
   "source": [
    "# using a for loop\n",
    "n = 15\n",
    "fibonacci = [0, 1]\n",
    "for i in range(2, n):\n",
    "    fibonacci.append(fibonacci[i-1] + fibonacci[i-2])\n",
    "print(fibonacci)\n"
   ]
  },
  {
   "cell_type": "code",
   "execution_count": 12,
   "id": "cd6ba6b0",
   "metadata": {},
   "outputs": [
    {
     "name": "stdout",
     "output_type": "stream",
     "text": [
      "[0, 1, 1, 2, 3, 5, 8, 13, 21, 34, 55, 89, 144, 233, 377]\n"
     ]
    }
   ],
   "source": [
    "# using a while loop\n",
    "n = 15\n",
    "fibonacci = [0, 1]\n",
    "i = 2\n",
    "while i < n:\n",
    "    fibonacci.append(fibonacci[i-1] + fibonacci[i-2])\n",
    "    i += 1\n",
    "print(fibonacci)\n"
   ]
  },
  {
   "cell_type": "markdown",
   "id": "d532ce7a",
   "metadata": {},
   "source": [
    "# 12 Remove 2 and add 3 to the list and replace True with False."
   ]
  },
  {
   "cell_type": "code",
   "execution_count": 13,
   "id": "984a30b5",
   "metadata": {},
   "outputs": [
    {
     "name": "stdout",
     "output_type": "stream",
     "text": [
      "[1, 3, 5, [3, 3], False]\n"
     ]
    }
   ],
   "source": [
    "Li = [1, 3, 5, [2, 3], True]\n",
    "Li[3][0] = 3   # replace 2 with 3 in the sublist\n",
    "Li[-1] = False # replace True with False at the end of the list\n",
    "print(Li)\n"
   ]
  },
  {
   "cell_type": "markdown",
   "id": "de5496e1",
   "metadata": {},
   "source": [
    "# 13 Find the intersection (common) of two sets.\n"
   ]
  },
  {
   "cell_type": "code",
   "execution_count": 14,
   "id": "0b7ff762",
   "metadata": {},
   "outputs": [
    {
     "name": "stdout",
     "output_type": "stream",
     "text": [
      "{True}\n"
     ]
    }
   ],
   "source": [
    "S1 = {1,4,6,8}\n",
    "S2 = {True, 1,2,10}\n",
    "result = S1.intersection (S2) #just use intersection \n",
    "print(result)\n"
   ]
  },
  {
   "cell_type": "markdown",
   "id": "aec817f7",
   "metadata": {},
   "source": [
    "# 15. Rename the key of a dictionary."
   ]
  },
  {
   "cell_type": "code",
   "execution_count": 15,
   "id": "33cb5274",
   "metadata": {},
   "outputs": [
    {
     "name": "stdout",
     "output_type": "stream",
     "text": [
      "{'name': 'Shakil', 'age': 27, 'city': 'Berlin', 'region': 'Germany'}\n"
     ]
    }
   ],
   "source": [
    "Dict = { \"name\": \"Shakil\", \"age\":27, \"city\": \"Berlin\", \"country\": \"Germany\" }\n",
    "# Renaming the key 'country' to 'region'\n",
    "Dict['region'] = Dict.pop('country')\n",
    "# Printing the updated dictionary\n",
    "print(Dict)\n"
   ]
  },
  {
   "cell_type": "markdown",
   "id": "d0538a61",
   "metadata": {},
   "source": [
    "# 16 Creating a data frame using the list."
   ]
  },
  {
   "cell_type": "code",
   "execution_count": 16,
   "id": "ee988c9e",
   "metadata": {},
   "outputs": [
    {
     "name": "stdout",
     "output_type": "stream",
     "text": [
      "   number\n",
      "0      10\n",
      "1     100\n",
      "2     300\n"
     ]
    }
   ],
   "source": [
    "#import pandas library\n",
    "import pandas as pd\n",
    "\n",
    "num = [10, 100, 300]\n",
    "#creating data from list\n",
    "df = pd.DataFrame({'number': num})\n",
    "print(df)\n"
   ]
  },
  {
   "cell_type": "markdown",
   "id": "7dd46e64",
   "metadata": {},
   "source": [
    "# 17 Change the value of a key in a given dictionary."
   ]
  },
  {
   "cell_type": "code",
   "execution_count": 17,
   "id": "5faf3412",
   "metadata": {},
   "outputs": [
    {
     "name": "stdout",
     "output_type": "stream",
     "text": [
      "{'name': 'Shakil', 'age': 28, 'city': 'Berlin', 'country': 'Germany'}\n"
     ]
    }
   ],
   "source": [
    "Dict = {\"name\": \"Shakil\", \"age\": 27, \"city\": \"Berlin\", \"country\": \"Germany\"}\n",
    "\n",
    "# Changing the value of the key 'age' to 28\n",
    "Dict['age'] = 28\n",
    "\n",
    "# Printing the updated dictionary\n",
    "print(Dict)\n"
   ]
  },
  {
   "cell_type": "code",
   "execution_count": null,
   "id": "4067291c",
   "metadata": {},
   "outputs": [],
   "source": []
  }
 ],
 "metadata": {
  "kernelspec": {
   "display_name": "Python 3 (ipykernel)",
   "language": "python",
   "name": "python3"
  },
  "language_info": {
   "codemirror_mode": {
    "name": "ipython",
    "version": 3
   },
   "file_extension": ".py",
   "mimetype": "text/x-python",
   "name": "python",
   "nbconvert_exporter": "python",
   "pygments_lexer": "ipython3",
   "version": "3.9.13"
  }
 },
 "nbformat": 4,
 "nbformat_minor": 5
}
